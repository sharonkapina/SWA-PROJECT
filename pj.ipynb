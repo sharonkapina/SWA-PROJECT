{
 "cells": [
  {
   "cell_type": "code",
   "execution_count": 1,
   "metadata": {},
   "outputs": [],
   "source": [
    "import pandas as pd\n",
    "from urllib.parse import urlparse\n",
    "import requests\n",
    "import os\n",
    "from datetime import datetime\n",
    "from dotenv import load_dotenv"
   ]
  },
  {
   "cell_type": "code",
   "execution_count": 2,
   "metadata": {},
   "outputs": [],
   "source": [
    "load_dotenv()\n",
    "\n",
    "API_KEY = os.getenv(\"GOOGLE_API_KEY\")\n",
    "CX = os.getenv(\"GOOGLE_CX_ID\")\n",
    "\n",
    "MAX_RESULTS = 30"
   ]
  },
  {
   "cell_type": "code",
   "execution_count": null,
   "metadata": {},
   "outputs": [
    {
     "name": "stdout",
     "output_type": "stream",
     "text": [
      "[API] 200 :: tesltraannualresports\n",
      "[API] 200 :: tesltraannualresports\n",
      "['https://www.telstra.com.au/aboutus/investors/reports', 'https://companiesmarketcap.com/cad/telstra/annual-reports/', 'http://classic.austlii.edu.au/au/journals/CLCCommsUpd/1994/114.pdf', 'https://www.accc.gov.au/system/files/Vodafone_9.pdf', 'https://www6.austlii.edu.au/au/journals/CLCCommsUpd/1996/12.pdf', 'https://telsoc.org/journal/ajtde-v1-n1/a5', 'https://citeseerx.ist.psu.edu/document?repid=rep1&type=pdf&doi=e477631799d5ed62fe5e1eb160a054ca427f6c3c', 'https://delimiter.com.au/2011/01/20/after-43-years-telstra-loses-coo-rocca/', 'https://wildhealth.net.au/could-this-be-australias-first-health-software-unicorn/', 'https://www.jstor.org/stable/25594542', 'https://www.jstor.org/stable/25594542', 'https://www.studocu.com/sv/document/university-of-technology-sydney/commercial-law/introdution-management/11254010', 'https://research-repository.griffith.edu.au/server/api/core/bitstreams/5e7c2d13-ac37-5f1e-8f7b-2215141f9751/content', 'https://www.annualreports.com/Company/telstra-corporation-limited', 'https://australiainstitute.org.au/wp-content/uploads/2020/12/Public-Infrastructure-Financing.pdf', 'https://forums.whirlpool.net.au/archive/1089322', 'https://www.acma.gov.au/sites/default/files/2019-08/Communications-report-2016-17-pdf.pdf']\n"
     ]
    }
   ],
   "source": [
    "\n",
    "results = []\n",
    "for start in range(1, MAX_RESULTS, 10):\n",
    "    url = f'https://www.googleapis.com/customsearch/v1?key={API_KEY}&cx={CX}&q=telstraannualreports&start={start}'\n",
    "    response = requests.get(url)\n",
    "    print(f\"[API] {response.status_code} :: tesltraannualresports\")\n",
    "    try:\n",
    "        data = response.json()\n",
    "        if \"items\" in data:\n",
    "            all_links = [item[\"link\"] for item in data[\"items\"]]\n",
    "            telstra_links = all_links\n",
    "            results.extend(  )\n",
    "        if len(data.get(\"items\", [])) < 10:\n",
    "            break\n",
    "    except Exception as e:\n",
    "        print(\" Failed to parse JSON:\", e)\n",
    "        break\n",
    "print(results)"
   ]
  }
 ],
 "metadata": {
  "kernelspec": {
   "display_name": ".venv",
   "language": "python",
   "name": "python3"
  },
  "language_info": {
   "codemirror_mode": {
    "name": "ipython",
    "version": 3
   },
   "file_extension": ".py",
   "mimetype": "text/x-python",
   "name": "python",
   "nbconvert_exporter": "python",
   "pygments_lexer": "ipython3",
   "version": "3.13.0"
  }
 },
 "nbformat": 4,
 "nbformat_minor": 2
}
